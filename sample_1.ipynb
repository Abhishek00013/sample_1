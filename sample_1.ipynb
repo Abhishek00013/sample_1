{
 "cells": [
  {
   "cell_type": "markdown",
   "id": "c17c27b9",
   "metadata": {},
   "source": [
    "#PRINT HELLO WORLD"
   ]
  },
  {
   "cell_type": "markdown",
   "id": "28c46496",
   "metadata": {},
   "source": [
    "####PRINTING HELLO WORLD"
   ]
  },
  {
   "cell_type": "markdown",
   "id": "675cb19e",
   "metadata": {},
   "source": [
    "###PRINTING HELLO WORLD"
   ]
  },
  {
   "cell_type": "code",
   "execution_count": 4,
   "id": "24c2ff23",
   "metadata": {},
   "outputs": [
    {
     "name": "stdout",
     "output_type": "stream",
     "text": [
      "Abhishek Patwal\n"
     ]
    }
   ],
   "source": [
    "print(\"Abhishek Patwal\")"
   ]
  },
  {
   "cell_type": "markdown",
   "id": "d69e044a",
   "metadata": {},
   "source": [
    "### print hello"
   ]
  },
  {
   "cell_type": "markdown",
   "id": "0232d62a",
   "metadata": {},
   "source": [
    "#### hello"
   ]
  },
  {
   "cell_type": "markdown",
   "id": "6ea3a420",
   "metadata": {},
   "source": [
    "### DATATYPES"
   ]
  },
  {
   "cell_type": "code",
   "execution_count": 1,
   "id": "fb642398",
   "metadata": {},
   "outputs": [],
   "source": [
    "dict={1:'apple',2:'orange',3:'banana'}"
   ]
  },
  {
   "cell_type": "code",
   "execution_count": 2,
   "id": "08e2f9f9",
   "metadata": {},
   "outputs": [
    {
     "name": "stdout",
     "output_type": "stream",
     "text": [
      "{1: 'apple', 2: 'orange', 3: 'banana'}\n"
     ]
    }
   ],
   "source": [
    "print(dict)"
   ]
  },
  {
   "cell_type": "code",
   "execution_count": 3,
   "id": "cb000847",
   "metadata": {},
   "outputs": [
    {
     "name": "stdout",
     "output_type": "stream",
     "text": [
      "apple\n"
     ]
    }
   ],
   "source": [
    "print(dict[1])"
   ]
  },
  {
   "cell_type": "code",
   "execution_count": 4,
   "id": "36815501",
   "metadata": {},
   "outputs": [],
   "source": [
    "dict[4]='strawberry'"
   ]
  },
  {
   "cell_type": "code",
   "execution_count": 5,
   "id": "5292fbdf",
   "metadata": {},
   "outputs": [
    {
     "data": {
      "text/plain": [
       "{1: 'apple', 2: 'orange', 3: 'banana', 4: 'strawberry'}"
      ]
     },
     "execution_count": 5,
     "metadata": {},
     "output_type": "execute_result"
    }
   ],
   "source": [
    "dict"
   ]
  },
  {
   "cell_type": "code",
   "execution_count": 9,
   "id": "8bd3ce22",
   "metadata": {},
   "outputs": [],
   "source": [
    "list1=[1,2,3,4]"
   ]
  },
  {
   "cell_type": "code",
   "execution_count": 10,
   "id": "75484f39",
   "metadata": {},
   "outputs": [
    {
     "data": {
      "text/plain": [
       "[1, 2, 3, 4]"
      ]
     },
     "execution_count": 10,
     "metadata": {},
     "output_type": "execute_result"
    }
   ],
   "source": [
    "list1"
   ]
  },
  {
   "cell_type": "code",
   "execution_count": null,
   "id": "1d11fc92",
   "metadata": {},
   "outputs": [],
   "source": []
  }
 ],
 "metadata": {
  "kernelspec": {
   "display_name": "Python 3 (ipykernel)",
   "language": "python",
   "name": "python3"
  },
  "language_info": {
   "codemirror_mode": {
    "name": "ipython",
    "version": 3
   },
   "file_extension": ".py",
   "mimetype": "text/x-python",
   "name": "python",
   "nbconvert_exporter": "python",
   "pygments_lexer": "ipython3",
   "version": "3.10.9"
  }
 },
 "nbformat": 4,
 "nbformat_minor": 5
}
